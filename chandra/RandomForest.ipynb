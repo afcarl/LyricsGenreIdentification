{
 "metadata": {
  "name": "",
  "signature": "sha256:02a9e39095281eddd926f70f06169c778523213b8c33d248aa332713a5fea4b4"
 },
 "nbformat": 3,
 "nbformat_minor": 0,
 "worksheets": [
  {
   "cells": [
    {
     "cell_type": "code",
     "collapsed": false,
     "input": [
      "%matplotlib inline\n",
      "import pandas as pd\n",
      "import numpy as np \n",
      "import matplotlib.pyplot as plt\n",
      "import matplotlib as mpl\n",
      "import pylab as pl\n",
      "import csv\n",
      "from sklearn import svm\n",
      "from sklearn.utils import shuffle\n",
      "from sklearn.cross_validation import train_test_split\n",
      "import sklearn.cross_validation \n",
      "from sklearn.learning_curve import validation_curve\n",
      "from sklearn.neighbors import KNeighborsClassifier\n",
      "from sklearn import preprocessing\n",
      "from sklearn import linear_model, datasets"
     ],
     "language": "python",
     "metadata": {},
     "outputs": [],
     "prompt_number": 1
    },
    {
     "cell_type": "code",
     "collapsed": false,
     "input": [
      "dat = pd.read_csv(\"DatasetwithFeatures.csv\")\n",
      "dat.loc[dat.genre=='adult_contemp', 'Target'] =1\n",
      "dat.loc[dat.genre=='R_and_B', 'Target'] =0\n"
     ],
     "language": "python",
     "metadata": {},
     "outputs": [],
     "prompt_number": 2
    },
    {
     "cell_type": "code",
     "collapsed": false,
     "input": [
      "print dat.shape"
     ],
     "language": "python",
     "metadata": {},
     "outputs": [
      {
       "output_type": "stream",
       "stream": "stdout",
       "text": [
        "(1112, 27)\n"
       ]
      }
     ],
     "prompt_number": 3
    },
    {
     "cell_type": "code",
     "collapsed": false,
     "input": [
      "y = dat.iloc[:,[26]]\n",
      "X = dat.iloc[:,[17,18,19,20,21,22,23,24,25]]\n",
      "cols = X.columns\n",
      "# X = dat.drop(dat.columns[21],axis=1)\n",
      "# X_o=X\n",
      "# y_o=y\n",
      "# print y\n",
      "# print X"
     ],
     "language": "python",
     "metadata": {},
     "outputs": [],
     "prompt_number": 4
    },
    {
     "cell_type": "code",
     "collapsed": false,
     "input": [
      "# dividing the original dataset into train and test set\n",
      "X,y = shuffle(X,y)\n",
      "y = y.ravel()\n",
      "X_train, X_test, y_train, y_test = train_test_split(X, y, test_size=0.2, random_state=42)"
     ],
     "language": "python",
     "metadata": {},
     "outputs": [],
     "prompt_number": 5
    },
    {
     "cell_type": "code",
     "collapsed": false,
     "input": [
      "from sklearn.ensemble import RandomForestClassifier\n",
      "from sklearn.cross_validation import cross_val_score\n",
      "model =  RandomForestClassifier(n_estimators=10)\n",
      "model= model.fit(X_train, y_train)"
     ],
     "language": "python",
     "metadata": {},
     "outputs": [],
     "prompt_number": 7
    },
    {
     "cell_type": "code",
     "collapsed": false,
     "input": [
      "print model.score(X_train, y_train)\n",
      "print model"
     ],
     "language": "python",
     "metadata": {},
     "outputs": [
      {
       "output_type": "stream",
       "stream": "stdout",
       "text": [
        "0.989876265467\n",
        "RandomForestClassifier(bootstrap=True, compute_importances=None,\n",
        "            criterion='gini', max_depth=None, max_features='auto',\n",
        "            max_leaf_nodes=None, min_density=None, min_samples_leaf=1,\n",
        "            min_samples_split=2, n_estimators=10, n_jobs=1,\n",
        "            oob_score=False, random_state=None, verbose=0)\n"
       ]
      }
     ],
     "prompt_number": 8
    },
    {
     "cell_type": "code",
     "collapsed": false,
     "input": [
      "def compute_importances(ensemble, normalize=False):\n",
      "    trees_importances = [base_model.tree_.compute_feature_importances(normalize=normalize)\n",
      "                         for base_model in ensemble.estimators_]\n",
      "    return sum(trees_importances) / len(trees_importances)\n",
      "\n",
      "\n",
      "def plot_feature_importances(importances, normalize=False, color=None, alpha=0.5, label=None, chunk=None):\n",
      "    if hasattr(importances, 'estimators_'):\n",
      "        importances = compute_importances(importances, normalize=normalize)\n",
      "    if chunk is not None:\n",
      "        importances = importances[chunk]\n",
      "    plt.bar(range(len(importances)), importances, color=color, alpha=alpha, label=label)"
     ],
     "language": "python",
     "metadata": {},
     "outputs": [],
     "prompt_number": 9
    },
    {
     "cell_type": "code",
     "collapsed": false,
     "input": [
      "plt.figure(figsize=(16, 3))\n",
      "plot_feature_importances(model.fit(X_train, y_train), label='Features')\n",
      "_ = plt.legend()\n",
      "plt.title('Feature Importance Plot - Random Forests')\n",
      "plt.xlabel(\"Column Numbers\")"
     ],
     "language": "python",
     "metadata": {},
     "outputs": [
      {
       "metadata": {},
       "output_type": "pyout",
       "prompt_number": 10,
       "text": [
        "<matplotlib.text.Text at 0x109f19690>"
       ]
      },
      {
       "metadata": {},
       "output_type": "display_data",
       "png": "[encoded data removed]",
       "text": [
        "<matplotlib.figure.Figure at 0x109efe350>"
       ]
      }
     ],
     "prompt_number": 10
    },
    {
     "cell_type": "code",
     "collapsed": false,
     "input": [
      "from sklearn.grid_search import GridSearchCV\n",
      "tuned_parameters = [{'max_features': ['sqrt', 'log2'],'max_depth':[10] ,  'n_estimators': [100, 200,300,400]}]\n",
      "rf = GridSearchCV( RandomForestClassifier(min_samples_split=1, compute_importances=False, n_jobs=-1), tuned_parameters, cv=3, verbose=2 ).fit(X_train, y_train)"
     ],
     "language": "python",
     "metadata": {},
     "outputs": [
      {
       "output_type": "stream",
       "stream": "stdout",
       "text": [
        "Fitting 3 folds for each of 8 candidates, totalling 24 fits\n",
        "[CV] max_features=sqrt, n_estimators=100, max_depth=10 ...............\n",
        "[CV] ...... max_features=sqrt, n_estimators=100, max_depth=10 -   0.5s"
       ]
      },
      {
       "output_type": "stream",
       "stream": "stderr",
       "text": [
        "/Users/Chandra/.local/lib/python2.7/site-packages/sklearn/ensemble/forest.py:776: DeprecationWarning: Setting compute_importances is no longer required as version 0.14. Variable importances are now computed on the fly when accessing the feature_importances_ attribute. This parameter will be removed in 0.16.\n",
        "  DeprecationWarning)\n",
        "[Parallel(n_jobs=1)]: Done   1 jobs       | elapsed:    0.5s\n"
       ]
      },
      {
       "output_type": "stream",
       "stream": "stdout",
       "text": [
        "\n",
        "[CV] max_features=sqrt, n_estimators=100, max_depth=10 ...............\n",
        "[CV] ...... max_features=sqrt, n_estimators=100, max_depth=10 -   0.7s"
       ]
      },
      {
       "output_type": "stream",
       "stream": "stdout",
       "text": [
        "\n",
        "[CV] max_features=sqrt, n_estimators=100, max_depth=10 ...............\n",
        "[CV] ...... max_features=sqrt, n_estimators=100, max_depth=10 -   0.5s"
       ]
      },
      {
       "output_type": "stream",
       "stream": "stdout",
       "text": [
        "\n",
        "[CV] max_features=sqrt, n_estimators=200, max_depth=10 ...............\n",
        "[CV] ...... max_features=sqrt, n_estimators=200, max_depth=10 -   0.7s"
       ]
      },
      {
       "output_type": "stream",
       "stream": "stdout",
       "text": [
        "\n",
        "[CV] max_features=sqrt, n_estimators=200, max_depth=10 ...............\n",
        "[CV] ...... max_features=sqrt, n_estimators=200, max_depth=10 -   0.7s"
       ]
      },
      {
       "output_type": "stream",
       "stream": "stdout",
       "text": [
        "\n",
        "[CV] max_features=sqrt, n_estimators=200, max_depth=10 ...............\n",
        "[CV] ...... max_features=sqrt, n_estimators=200, max_depth=10 -   0.7s"
       ]
      },
      {
       "output_type": "stream",
       "stream": "stdout",
       "text": [
        "\n",
        "[CV] max_features=sqrt, n_estimators=300, max_depth=10 ...............\n",
        "[CV] ...... max_features=sqrt, n_estimators=300, max_depth=10 -   1.1s"
       ]
      },
      {
       "output_type": "stream",
       "stream": "stdout",
       "text": [
        "\n",
        "[CV] max_features=sqrt, n_estimators=300, max_depth=10 ...............\n",
        "[CV] ...... max_features=sqrt, n_estimators=300, max_depth=10 -   1.1s"
       ]
      },
      {
       "output_type": "stream",
       "stream": "stdout",
       "text": [
        "\n",
        "[CV] max_features=sqrt, n_estimators=300, max_depth=10 ...............\n",
        "[CV] ...... max_features=sqrt, n_estimators=300, max_depth=10 -   1.1s"
       ]
      },
      {
       "output_type": "stream",
       "stream": "stdout",
       "text": [
        "\n",
        "[CV] max_features=sqrt, n_estimators=400, max_depth=10 ...............\n",
        "[CV] ...... max_features=sqrt, n_estimators=400, max_depth=10 -   1.4s"
       ]
      },
      {
       "output_type": "stream",
       "stream": "stdout",
       "text": [
        "\n",
        "[CV] max_features=sqrt, n_estimators=400, max_depth=10 ...............\n",
        "[CV] ...... max_features=sqrt, n_estimators=400, max_depth=10 -   1.4s"
       ]
      },
      {
       "output_type": "stream",
       "stream": "stdout",
       "text": [
        "\n",
        "[CV] max_features=sqrt, n_estimators=400, max_depth=10 ...............\n",
        "[CV] ...... max_features=sqrt, n_estimators=400, max_depth=10 -   1.4s"
       ]
      },
      {
       "output_type": "stream",
       "stream": "stdout",
       "text": [
        "\n",
        "[CV] max_features=log2, n_estimators=100, max_depth=10 ...............\n",
        "[CV] ...... max_features=log2, n_estimators=100, max_depth=10 -   0.5s"
       ]
      },
      {
       "output_type": "stream",
       "stream": "stdout",
       "text": [
        "\n",
        "[CV] max_features=log2, n_estimators=100, max_depth=10 ...............\n",
        "[CV] ...... max_features=log2, n_estimators=100, max_depth=10 -   0.5s"
       ]
      },
      {
       "output_type": "stream",
       "stream": "stdout",
       "text": [
        "\n",
        "[CV] max_features=log2, n_estimators=100, max_depth=10 ...............\n",
        "[CV] ...... max_features=log2, n_estimators=100, max_depth=10 -   0.5s"
       ]
      },
      {
       "output_type": "stream",
       "stream": "stdout",
       "text": [
        "\n",
        "[CV] max_features=log2, n_estimators=200, max_depth=10 ...............\n",
        "[CV] ...... max_features=log2, n_estimators=200, max_depth=10 -   0.7s"
       ]
      },
      {
       "output_type": "stream",
       "stream": "stdout",
       "text": [
        "\n",
        "[CV] max_features=log2, n_estimators=200, max_depth=10 ...............\n",
        "[CV] ...... max_features=log2, n_estimators=200, max_depth=10 -   1.0s"
       ]
      },
      {
       "output_type": "stream",
       "stream": "stdout",
       "text": [
        "\n",
        "[CV] max_features=log2, n_estimators=200, max_depth=10 ...............\n",
        "[CV] ...... max_features=log2, n_estimators=200, max_depth=10 -   0.7s"
       ]
      },
      {
       "output_type": "stream",
       "stream": "stdout",
       "text": [
        "\n",
        "[CV] max_features=log2, n_estimators=300, max_depth=10 ...............\n",
        "[CV] ...... max_features=log2, n_estimators=300, max_depth=10 -   1.1s"
       ]
      },
      {
       "output_type": "stream",
       "stream": "stdout",
       "text": [
        "\n",
        "[CV] max_features=log2, n_estimators=300, max_depth=10 ...............\n",
        "[CV] ...... max_features=log2, n_estimators=300, max_depth=10 -   1.1s"
       ]
      },
      {
       "output_type": "stream",
       "stream": "stdout",
       "text": [
        "\n",
        "[CV] max_features=log2, n_estimators=300, max_depth=10 ...............\n",
        "[CV] ...... max_features=log2, n_estimators=300, max_depth=10 -   1.1s"
       ]
      },
      {
       "output_type": "stream",
       "stream": "stdout",
       "text": [
        "\n",
        "[CV] max_features=log2, n_estimators=400, max_depth=10 ...............\n",
        "[CV] ...... max_features=log2, n_estimators=400, max_depth=10 -   1.4s"
       ]
      },
      {
       "output_type": "stream",
       "stream": "stdout",
       "text": [
        "\n",
        "[CV] max_features=log2, n_estimators=400, max_depth=10 ...............\n",
        "[CV] ...... max_features=log2, n_estimators=400, max_depth=10 -   1.4s"
       ]
      },
      {
       "output_type": "stream",
       "stream": "stdout",
       "text": [
        "\n",
        "[CV] max_features=log2, n_estimators=400, max_depth=10 ...............\n",
        "[CV] ...... max_features=log2, n_estimators=400, max_depth=10 -   1.4s"
       ]
      },
      {
       "output_type": "stream",
       "stream": "stdout",
       "text": [
        "\n"
       ]
      },
      {
       "output_type": "stream",
       "stream": "stderr",
       "text": [
        "[Parallel(n_jobs=1)]: Done  24 out of  24 | elapsed:   22.6s finished\n"
       ]
      }
     ],
     "prompt_number": 11
    },
    {
     "cell_type": "code",
     "collapsed": false,
     "input": [
      "print 'Best parameters for Random Forest:'\n",
      "print rf.best_estimator_\n",
      "model =rf.best_estimator_\n",
      "bestmodel= rf.best_estimator_"
     ],
     "language": "python",
     "metadata": {},
     "outputs": [
      {
       "output_type": "stream",
       "stream": "stdout",
       "text": [
        "Best parameters for Random Forest:\n",
        "RandomForestClassifier(bootstrap=True, compute_importances=None,\n",
        "            criterion='gini', max_depth=10, max_features='log2',\n",
        "            max_leaf_nodes=None, min_density=None, min_samples_leaf=1,\n",
        "            min_samples_split=1, n_estimators=300, n_jobs=-1,\n",
        "            oob_score=False, random_state=None, verbose=0)\n"
       ]
      }
     ],
     "prompt_number": 12
    },
    {
     "cell_type": "code",
     "collapsed": false,
     "input": [
      "from sklearn.utils import shuffle\n",
      "X1, y1 = shuffle(X_train,y_train)\n",
      "import sklearn.metrics\n",
      "skf = sklearn.cross_validation.StratifiedKFold(y1, 3)\n",
      "for train, test in skf:\n",
      "    XTrain,YTrain= X1[train], y1[train]\n",
      "    XTest,YTest = X1[test], y1[test]\n",
      "    model.fit(XTrain, YTrain)\n",
      "    preds = model.predict(XTest)\n",
      "    print sklearn.metrics.accuracy_score(YTest, preds)\n",
      "    print sklearn.metrics.recall_score(YTest, preds)\n",
      "    print sklearn.metrics.f1_score(YTest,preds)"
     ],
     "language": "python",
     "metadata": {},
     "outputs": [
      {
       "output_type": "stream",
       "stream": "stdout",
       "text": [
        "0.828282828283\n",
        "0.918918918919\n",
        "0.869565217391\n",
        "0.820945945946"
       ]
      },
      {
       "output_type": "stream",
       "stream": "stdout",
       "text": [
        "\n",
        "0.913043478261\n",
        "0.863753213368\n",
        "0.814189189189"
       ]
      },
      {
       "output_type": "stream",
       "stream": "stdout",
       "text": [
        "\n",
        "0.907608695652\n",
        "0.858611825193\n"
       ]
      }
     ],
     "prompt_number": 14
    },
    {
     "cell_type": "code",
     "collapsed": false,
     "input": [
      "\n",
      "from sklearn import metrics\n",
      "predicted = model.predict(X_test)\n",
      "print metrics.accuracy_score(y_test, predicted)\n",
      "print metrics.confusion_matrix(y_test, predicted)\n",
      "print metrics.classification_report(y_test, predicted)\n",
      "\n",
      "preds = model.predict(X_test)\n",
      "print \"Accuracy - \", sklearn.metrics.accuracy_score(y_test, preds)\n",
      "print \"Precision -\",sklearn.metrics.precision_score(y_test,preds)\n",
      "print \"Recall -\",sklearn.metrics.recall_score(y_test, preds)\n",
      "print \"F1 score -\",sklearn.metrics.f1_score(y_test,preds)"
     ],
     "language": "python",
     "metadata": {},
     "outputs": [
      {
       "output_type": "stream",
       "stream": "stdout",
       "text": [
        "0.829596412556\n",
        "[[ 61  24]\n",
        " [ 14 124]]\n",
        "             precision    recall  f1-score   support\n",
        "\n",
        "        0.0       0.81      0.72      0.76        85\n",
        "        1.0       0.84      0.90      0.87       138\n",
        "\n",
        "avg / total       0.83      0.83      0.83       223\n",
        "\n",
        "Accuracy - "
       ]
      },
      {
       "output_type": "stream",
       "stream": "stdout",
       "text": [
        " 0.829596412556\n",
        "Precision - 0.837837837838\n",
        "Recall - 0.898550724638\n",
        "F1 score - 0.867132867133\n"
       ]
      }
     ],
     "prompt_number": 17
    },
    {
     "cell_type": "code",
     "collapsed": false,
     "input": [
      "from sklearn.learning_curve import validation_curve\n",
      "param_range = range(5,50)\n",
      "train_scores, test_scores = validation_curve(model,X,y,\"max_depth\",param_range)"
     ],
     "language": "python",
     "metadata": {},
     "outputs": [],
     "prompt_number": 20
    },
    {
     "cell_type": "code",
     "collapsed": false,
     "input": [
      "train_scores_mean = np.mean(train_scores, axis=1)\n",
      "train_scores_std = np.std(train_scores, axis=1)\n",
      "test_scores_mean = np.mean(test_scores, axis=1)\n",
      "test_scores_std = np.std(test_scores, axis=1)\n",
      "\n",
      "plt.title(\"Validation Curve with Random Forest\")\n",
      "plt.xlabel(\"maximum depth\")\n",
      "plt.ylabel(\"Score\")\n",
      "plt.semilogx(param_range, train_scores_mean, label=\"Training score\", color=\"r\")\n",
      "plt.fill_between(param_range, train_scores_mean - train_scores_std,\n",
      "                 train_scores_mean + train_scores_std, alpha=0.2, color=\"r\")\n",
      "plt.semilogx(param_range, test_scores_mean, label=\"Cross-validation score\",\n",
      "             color=\"g\")\n",
      "plt.fill_between(param_range, test_scores_mean - test_scores_std,\n",
      "                 test_scores_mean + test_scores_std, alpha=0.2, color=\"g\")\n",
      "plt.legend(loc=\"best\")\n",
      "plt.show()"
     ],
     "language": "python",
     "metadata": {},
     "outputs": [
      {
       "metadata": {},
       "output_type": "display_data",
       "png": "[encoded data removed]",
       "text": [
        "<matplotlib.figure.Figure at 0x109ccee90>"
       ]
      }
     ],
     "prompt_number": 21
    },
    {
     "cell_type": "code",
     "collapsed": false,
     "input": [
      "\n",
      "from sklearn.learning_curve import learning_curve\n",
      "train_sizes, train_scores, valid_scores = learning_curve(model,X1,y1, train_sizes=np.array([ 0.1, 0.325, 0.55, 0.775, 1. ]))\n",
      "train_scores_mean = np.mean(train_scores, axis=1)\n",
      "train_scores_std = np.std(train_scores, axis=1)\n",
      "test_scores_mean = np.mean(valid_scores, axis=1)\n",
      "test_scores_std = np.std(valid_scores, axis=1)\n",
      "\n",
      "plt.grid()\n",
      "plt.plot(train_sizes,train_scores_mean,'o-',color=\"r\",label=\"Train Score\")\n",
      "plt.plot(train_sizes,test_scores_mean,'o-',color=\"g\",label =\"Cross validation Score\")\n",
      "plt.legend(loc=\"best\")\n",
      "plt.title(\"Learning Curve\")\n",
      "plt.xlabel(\"Train Sizes\")\n",
      "plt.ylabel(\"Score\")"
     ],
     "language": "python",
     "metadata": {},
     "outputs": [
      {
       "metadata": {},
       "output_type": "pyout",
       "prompt_number": 22,
       "text": [
        "<matplotlib.text.Text at 0x10a927a50>"
       ]
      },
      {
       "metadata": {},
       "output_type": "display_data",
       "png": "[encoded data removed]",
       "text": [
        "<matplotlib.figure.Figure at 0x10a3b6ed0>"
       ]
      }
     ],
     "prompt_number": 22
    },
    {
     "cell_type": "code",
     "collapsed": false,
     "input": [],
     "language": "python",
     "metadata": {},
     "outputs": []
    }
   ],
   "metadata": {}
  }
 ]
}