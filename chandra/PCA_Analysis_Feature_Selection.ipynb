{
 "metadata": {
  "name": "",
  "signature": "sha256:3c13e22e061dbad378a35424c4b10a5be0a5479aa10b23fe78918add86027ebd"
 },
 "nbformat": 3,
 "nbformat_minor": 0,
 "worksheets": [
  {
   "cells": [
    {
     "cell_type": "code",
     "collapsed": false,
     "input": [
      "from __future__ import division\n",
      "import nltk, re, pprint\n",
      "import pandas as pd\n",
      "dat = pd.read_csv(\"DatasetwithFeatures.csv\")"
     ],
     "language": "python",
     "metadata": {},
     "outputs": [],
     "prompt_number": 17
    },
    {
     "cell_type": "code",
     "collapsed": false,
     "input": [
      "dat.loc[dat.genre=='adult_contemp', 'Target'] =1\n",
      "dat.loc[dat.genre=='R_and_B', 'Target'] =0"
     ],
     "language": "python",
     "metadata": {},
     "outputs": [],
     "prompt_number": 18
    },
    {
     "cell_type": "code",
     "collapsed": false,
     "input": [
      "dat.head()\n",
      "print dat.shape\n",
      "newdat_Target = dat.iloc[:,16:27]\n",
      "newdat= dat.iloc[:,16:26]"
     ],
     "language": "python",
     "metadata": {},
     "outputs": [
      {
       "output_type": "stream",
       "stream": "stdout",
       "text": [
        "(1112, 27)\n"
       ]
      }
     ],
     "prompt_number": 19
    },
    {
     "cell_type": "code",
     "collapsed": false,
     "input": [
      "# newda = dat.iloc[:,'nounCount','verbCount','nonUniqueWords','avgWordLength','avgLineLength','avgLineLengthWords','nounDensity','verbDensity','uniqueWordDensity','NonuniqueWordDensity','Target']\n",
      "# newdat.head()                "
     ],
     "language": "python",
     "metadata": {},
     "outputs": [],
     "prompt_number": 20
    },
    {
     "cell_type": "markdown",
     "metadata": {},
     "source": [
      "Covariance Matrix"
     ]
    },
    {
     "cell_type": "code",
     "collapsed": false,
     "input": [
      "X = dat.ix[:,16:26].values\n",
      "y = dat.ix[:,26].values"
     ],
     "language": "python",
     "metadata": {},
     "outputs": [],
     "prompt_number": 21
    },
    {
     "cell_type": "code",
     "collapsed": false,
     "input": [
      "from sklearn.feature_selection import VarianceThreshold\n",
      "# >>> X = [[0, 0, 1], [0, 1, 0], [1, 0, 0], [0, 1, 1], [0, 1, 0], [0, 1, 1]]\n",
      "sel = VarianceThreshold(threshold=(.8 * (1 - .8)))\n",
      "Xp=sel.fit_transform(X)"
     ],
     "language": "python",
     "metadata": {},
     "outputs": [],
     "prompt_number": 22
    },
    {
     "cell_type": "code",
     "collapsed": false,
     "input": [
      "from sklearn.preprocessing import StandardScaler\n",
      "X_std = StandardScaler().fit_transform(X)"
     ],
     "language": "python",
     "metadata": {},
     "outputs": [],
     "prompt_number": 23
    },
    {
     "cell_type": "code",
     "collapsed": false,
     "input": [
      "import numpy as np\n",
      "mean_vec = np.mean(X_std, axis=0)\n",
      "cov_mat = (X_std - mean_vec).T.dot((X_std - mean_vec)) / (X_std.shape[0]-1)\n",
      "# print('Covariance matrix \\n%s' %cov_mat)"
     ],
     "language": "python",
     "metadata": {},
     "outputs": [],
     "prompt_number": 24
    },
    {
     "cell_type": "code",
     "collapsed": false,
     "input": [
      "# print('NumPy covariance matrix: \\n%s' %np.cov(X_std.T))"
     ],
     "language": "python",
     "metadata": {},
     "outputs": [],
     "prompt_number": 25
    },
    {
     "cell_type": "code",
     "collapsed": false,
     "input": [
      "cov_mat = np.cov(X_std.T)\n",
      "\n",
      "eig_vals, eig_vecs = np.linalg.eig(cov_mat)\n",
      "\n",
      "# print('Eigenvectors \\n%s' %eig_vecs)\n",
      "# print('\\nEigenvalues \\n%s' %eig_vals)"
     ],
     "language": "python",
     "metadata": {},
     "outputs": [],
     "prompt_number": 26
    },
    {
     "cell_type": "markdown",
     "metadata": {},
     "source": [
      "Eigendecomposition of the standardized data based on the correlation matrix:"
     ]
    },
    {
     "cell_type": "code",
     "collapsed": false,
     "input": [
      "cor_mat1 = np.corrcoef(X_std.T)\n",
      "\n",
      "eig_vals, eig_vecs = np.linalg.eig(cor_mat1)\n",
      "\n",
      "# print('Eigenvectors \\n%s' %eig_vecs)\n",
      "# print('\\nEigenvalues \\n%s' %eig_vals)"
     ],
     "language": "python",
     "metadata": {},
     "outputs": [],
     "prompt_number": 27
    },
    {
     "cell_type": "markdown",
     "metadata": {},
     "source": [
      "Eigendecomposition of the raw data based on the correlation matrix:"
     ]
    },
    {
     "cell_type": "code",
     "collapsed": false,
     "input": [
      "cor_mat2 = np.corrcoef(X.T)\n",
      "\n",
      "eig_vals, eig_vecs = np.linalg.eig(cor_mat2)\n",
      "\n",
      "# print('Eigenvectors \\n%s' %eig_vecs)\n",
      "# print('\\nEigenvalues \\n%s' %eig_vals)"
     ],
     "language": "python",
     "metadata": {},
     "outputs": [],
     "prompt_number": 28
    },
    {
     "cell_type": "code",
     "collapsed": false,
     "input": [
      "u,s,v = np.linalg.svd(X_std.T)\n",
      "# u"
     ],
     "language": "python",
     "metadata": {},
     "outputs": [],
     "prompt_number": 29
    },
    {
     "cell_type": "code",
     "collapsed": false,
     "input": [
      "for ev in eig_vecs:\n",
      "    np.testing.assert_array_almost_equal(1.0, np.linalg.norm(ev))\n",
      "# print('Everything ok!')"
     ],
     "language": "python",
     "metadata": {},
     "outputs": [],
     "prompt_number": 30
    },
    {
     "cell_type": "code",
     "collapsed": false,
     "input": [
      "# Make a list of (eigenvalue, eigenvector) tuples\n",
      "eig_pairs = [(np.abs(eig_vals[i]), eig_vecs[:,i]) for i in range(len(eig_vals))]\n",
      "\n",
      "# Sort the (eigenvalue, eigenvector) tuples from high to low\n",
      "eig_pairs.sort()\n",
      "eig_pairs.reverse()\n",
      "\n",
      "# Visually confirm that the list is correctly sorted by decreasing eigenvalues\n",
      "print('Eigenvalues in descending order:')\n",
      "for i in eig_pairs:\n",
      "    print(i[0])"
     ],
     "language": "python",
     "metadata": {},
     "outputs": [
      {
       "output_type": "stream",
       "stream": "stdout",
       "text": [
        "Eigenvalues in descending order:\n",
        "3.44617990118\n",
        "2.12774500239\n",
        "1.69708800654\n",
        "1.19888800907\n",
        "0.878556053396\n",
        "0.525318189116\n",
        "0.0643748266037\n",
        "0.0581126507112\n",
        "0.00373736099806\n",
        "8.34111618676e-17\n"
       ]
      }
     ],
     "prompt_number": 31
    },
    {
     "cell_type": "code",
     "collapsed": false,
     "input": [
      "import plotly\n",
      "import plotly.plotly as py\n",
      "from plotly.graph_objs import *\n",
      "import plotly.tools as tls\n",
      "py.sign_in('Chandrak1907', 'n0pd21eiwy')\n",
      "\n",
      "tot = sum(eig_vals)\n",
      "var_exp = [(i / tot)*100 for i in sorted(eig_vals, reverse=True)]\n",
      "cum_var_exp = np.cumsum(var_exp)\n",
      "\n",
      "trace1 = Bar(\n",
      "        x=['PC %s' %i for i in range(1,5)],\n",
      "        y=var_exp,\n",
      "        showlegend=False)\n",
      "\n",
      "trace2 = Scatter(\n",
      "        x=['PC %s' %i for i in range(1,5)], \n",
      "        y=cum_var_exp,\n",
      "        name='cumulative explained variance')\n",
      "\n",
      "data = Data([trace1, trace2])\n",
      "\n",
      "layout=Layout(\n",
      "        yaxis=YAxis(title='Explained variance in percent'),\n",
      "        title='Explained variance by different principal components')\n",
      "\n",
      "fig = Figure(data=data, layout=layout)\n",
      "py.iplot(fig)"
     ],
     "language": "python",
     "metadata": {},
     "outputs": [
      {
       "html": [
        "<iframe id=\"igraph\" scrolling=\"no\" style=\"border:none;\"seamless=\"seamless\" src=\"https://plot.ly/~Chandrak1907/51.embed\" height=\"525\" width=\"100%\"></iframe>"
       ],
       "metadata": {},
       "output_type": "pyout",
       "prompt_number": 32,
       "text": [
        "<plotly.tools.PlotlyDisplay at 0x10bfdda10>"
       ]
      }
     ],
     "prompt_number": 32
    },
    {
     "cell_type": "code",
     "collapsed": false,
     "input": [
      "# len(eig_pairs[0][1])\n",
      "matrix_w = np.hstack((eig_pairs[0][1].reshape(10,1), eig_pairs[1][1].reshape(10,1)))\n",
      "print('Matrix W:\\n', matrix_w)"
     ],
     "language": "python",
     "metadata": {},
     "outputs": [
      {
       "output_type": "stream",
       "stream": "stdout",
       "text": [
        "('Matrix W:\\n', array([[ 0.39818105,  0.2279156 ],\n",
        "       [ 0.38637838,  0.02959578],\n",
        "       [ 0.49968775,  0.04771293],\n",
        "       [-0.22275537,  0.19715531],\n",
        "       [-0.02492612,  0.62022769],\n",
        "       [ 0.01042364,  0.61104786],\n",
        "       [ 0.13516509,  0.29016811],\n",
        "       [-0.02496714, -0.16578054],\n",
        "       [-0.43199125,  0.13470197],\n",
        "       [ 0.43199125, -0.13470197]]))\n"
       ]
      }
     ],
     "prompt_number": 22
    },
    {
     "cell_type": "code",
     "collapsed": false,
     "input": [
      "Y = X_std.dot(matrix_w)"
     ],
     "language": "python",
     "metadata": {},
     "outputs": [],
     "prompt_number": 23
    },
    {
     "cell_type": "code",
     "collapsed": false,
     "input": [
      "# y[y==0]"
     ],
     "language": "python",
     "metadata": {},
     "outputs": [],
     "prompt_number": 33
    },
    {
     "cell_type": "code",
     "collapsed": false,
     "input": [
      "traces = []\n",
      "\n",
      "for name in (0, 1):\n",
      "#     print Y[y==name,0]\n",
      "#     print Y[y==name,1]\n",
      "    \n",
      "    trace = Scatter(\n",
      "        x=Y[y==name,0],\n",
      "        y=Y[y==name,1],\n",
      "        mode='markers',\n",
      "        name=name,\n",
      "        marker=Marker(\n",
      "            size=12,\n",
      "            line=Line(\n",
      "                color='rgba(217, 217, 217, 0.14)',\n",
      "                width=0.5),\n",
      "            opacity=0.8))\n",
      "    traces.append(trace)\n",
      "\n",
      "\n",
      "data = Data(traces)\n",
      "layout = Layout(showlegend=True,\n",
      "                scene=Scene(xaxis=XAxis(title='PC1'),\n",
      "                yaxis=YAxis(title='PC2'),))\n",
      "\n",
      "fig = Figure(data=data, layout=layout)\n",
      "py.iplot(fig)"
     ],
     "language": "python",
     "metadata": {},
     "outputs": [
      {
       "html": [
        "<iframe id=\"igraph\" scrolling=\"no\" style=\"border:none;\"seamless=\"seamless\" src=\"https://plot.ly/~Chandrak1907/46.embed\" height=\"525\" width=\"100%\"></iframe>"
       ],
       "metadata": {},
       "output_type": "pyout",
       "prompt_number": 25,
       "text": [
        "<plotly.tools.PlotlyDisplay at 0x10a306e10>"
       ]
      }
     ],
     "prompt_number": 25
    },
    {
     "cell_type": "code",
     "collapsed": false,
     "input": [
      "from sklearn.decomposition import PCA as sklearnPCA\n",
      "sklearn_pca = sklearnPCA(n_components=3)\n",
      "Y_sklearn = sklearn_pca.fit_transform(X_std)"
     ],
     "language": "python",
     "metadata": {},
     "outputs": [],
     "prompt_number": 28
    },
    {
     "cell_type": "code",
     "collapsed": false,
     "input": [
      "traces = []\n",
      "# ax = fig.add_subplot(111, projection='3d')\n",
      "\n",
      "for name in (0,1):\n",
      "\n",
      "    trace = Scatter3d(\n",
      "        x=Y_sklearn[y==name,0],\n",
      "        y=Y_sklearn[y==name,1],\n",
      "        z=Y_sklearn[y==name,2],\n",
      "        mode='markers',\n",
      "        name=name,\n",
      "        marker=Marker(\n",
      "            size=12,\n",
      "            line=Line(\n",
      "                color='rgba(217, 217, 217, 0.14)',\n",
      "                width=0.5),\n",
      "            opacity=0.8))\n",
      "    traces.append(trace)\n",
      "\n",
      "\n",
      "data = Data(traces)\n",
      "layout = Layout(xaxis=XAxis(title='PC1', showline=False),\n",
      "                yaxis=YAxis(title='PC2', showline=False),\n",
      "                zaxis=ZAxis(title='PC3', showline=False),\n",
      "                 legend=Legend(\n",
      "        x=' A',\n",
      "        y='B'\n",
      "    ))\n",
      "fig = Figure(data=data, layout=layout)\n",
      "py.iplot(fig, filename='legend-inside')\n",
      "\n",
      "# fig = Figure(data=data, layout=layout)\n",
      "# plot_url = py.plot(fig, filename='legend-inside')"
     ],
     "language": "python",
     "metadata": {},
     "outputs": [
      {
       "html": [
        "<iframe id=\"igraph\" scrolling=\"no\" style=\"border:none;\"seamless=\"seamless\" src=\"https://plot.ly/~Chandrak1907/49.embed\" height=\"525\" width=\"100%\"></iframe>"
       ],
       "metadata": {},
       "output_type": "pyout",
       "prompt_number": 36,
       "text": [
        "<plotly.tools.PlotlyDisplay at 0x10443c810>"
       ]
      }
     ],
     "prompt_number": 36
    },
    {
     "cell_type": "code",
     "collapsed": false,
     "input": [
      "# Feature selection  using Variance Threshold\n",
      "from sklearn.feature_selection import VarianceThreshold\n",
      "sel = VarianceThreshold(threshold=(.8 * (1 - .8)))\n",
      "sel.fit_transform(X).shape\n",
      "# Selection features selects only 6 columns with a variance threshold of 0.8"
     ],
     "language": "python",
     "metadata": {},
     "outputs": [
      {
       "metadata": {},
       "output_type": "pyout",
       "prompt_number": 39,
       "text": [
        "(1112, 6)"
       ]
      }
     ],
     "prompt_number": 39
    },
    {
     "cell_type": "code",
     "collapsed": false,
     "input": [
      "X.shape"
     ],
     "language": "python",
     "metadata": {},
     "outputs": [
      {
       "metadata": {},
       "output_type": "pyout",
       "prompt_number": 40,
       "text": [
        "(1112, 10)"
       ]
      }
     ],
     "prompt_number": 40
    },
    {
     "cell_type": "code",
     "collapsed": false,
     "input": [
      "%matplotlib inline\n",
      "import numpy as np\n",
      "import matplotlib.pyplot as plt\n",
      "\n",
      "from sklearn import datasets, svm\n",
      "from sklearn.feature_selection import SelectPercentile, f_classif\n",
      "\n",
      "\n",
      "###############################################################################\n",
      "plt.figure(1)\n",
      "plt.clf()\n",
      "\n",
      "X_indices = np.arange(X.shape[-1])\n",
      "plt.show()\n",
      "\n",
      "###############################################################################\n",
      "# Univariate feature selection with F-test for feature scoring\n",
      "# We use the default selection function: the 10% most significant features\n",
      "selector = SelectPercentile(f_classif, percentile=10)\n",
      "selector.fit(X, y)\n",
      "scores = -np.log10(selector.pvalues_)\n",
      "scores /= scores.max()\n",
      "plt.bar(X_indices - .25, scores, width=.2,\n",
      "        label=r'Univariate score ($-Log(p_{value})$)', color='g')\n",
      "\n",
      "###############################################################################\n",
      "# Compare to the weights of an SVM\n",
      "clf = svm.SVC(kernel='linear')\n",
      "clf.fit(X, y)\n",
      "\n",
      "svm_weights = (clf.coef_ ** 2).sum(axis=0)\n",
      "svm_weights /= svm_weights.max()\n",
      "\n",
      "plt.bar(X_indices - .15, svm_weights, width=.2, label='SVM weight', color='r')\n",
      "\n",
      "clf_selected = svm.SVC(kernel='linear')\n",
      "clf_selected.fit(selector.transform(X), y)\n",
      "\n",
      "svm_weights_selected = (clf_selected.coef_ ** 2).sum(axis=0)\n",
      "svm_weights_selected /= svm_weights_selected.max()\n",
      "\n",
      "plt.bar(X_indices[selector.get_support()] - .05, svm_weights_selected,\n",
      "        width=.2, label='SVM weights after selection', color='b')\n",
      "\n",
      "\n",
      "plt.title(\"Comparing feature selection\")\n",
      "plt.xlabel('Feature number')\n",
      "plt.yticks(())\n",
      "plt.axis('tight')\n",
      "plt.legend(loc='upper right')\n",
      "plt.show()"
     ],
     "language": "python",
     "metadata": {},
     "outputs": [
      {
       "metadata": {},
       "output_type": "display_data",
       "text": [
        "<matplotlib.figure.Figure at 0x10c257bd0>"
       ]
      },
      {
       "metadata": {},
       "output_type": "display_data",
       "png": "[encoded data removed]",
       "text": [
        "<matplotlib.figure.Figure at 0x10c12fc90>"
       ]
      }
     ],
     "prompt_number": 11
    },
    {
     "cell_type": "code",
     "collapsed": false,
     "input": [
      "# Tree Bases Feature selection \n",
      "\n",
      "from sklearn.ensemble import ExtraTreesClassifier\n",
      "from sklearn.datasets import load_iris\n",
      "print X.shape\n",
      "clf = ExtraTreesClassifier()\n",
      "X_new = clf.fit(X, y).transform(X)\n",
      "print clf.feature_importances_  \n",
      "print X_new.shape               \n"
     ],
     "language": "python",
     "metadata": {},
     "outputs": [
      {
       "output_type": "stream",
       "stream": "stdout",
       "text": [
        "(1112, 10)\n",
        "[ 0.19389655  0.17387783  0.13793517  0.07981817  0.06756677  0.0639549\n",
        "  0.07155873  0.08069353  0.06860119  0.06209715]\n",
        "(1112, 3)\n"
       ]
      }
     ],
     "prompt_number": 15
    }
   ],
   "metadata": {}
  }
 ]
}