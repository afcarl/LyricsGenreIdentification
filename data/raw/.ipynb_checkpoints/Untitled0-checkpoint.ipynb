{
 "metadata": {
  "name": "",
  "signature": "sha256:f716562cd880352c875d6fe04a1f03512d4a872cdf77aca5a45379754bbfcf0f"
 },
 "nbformat": 3,
 "nbformat_minor": 0,
 "worksheets": []
}